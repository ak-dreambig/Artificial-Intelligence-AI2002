{
 "cells": [
  {
   "cell_type": "code",
   "execution_count": 40,
   "id": "ce0050fa",
   "metadata": {},
   "outputs": [],
   "source": [
    "#task 1\n"
   ]
  },
  {
   "cell_type": "code",
   "execution_count": 41,
   "id": "e83d68fe",
   "metadata": {},
   "outputs": [
    {
     "name": "stdout",
     "output_type": "stream",
     "text": [
      "Enter the current condition: (smoke detected or not) (1/0) : 1\n",
      "Enter the value of temperature: (value in centigrade) : 23\n",
      "\n",
      "\n",
      "Current condition and temperature value :  ['1', '23']\n",
      "==> Smoke is detected!! Bringing things to normal.\n",
      "=> Alarm!!!!!\n",
      "=> sprinkle syatem activated!!\n",
      "==> Everything's back to normal!!\n",
      "cost is = 1\n"
     ]
    }
   ],
   "source": [
    "def fire_alaram_sytem():\n",
    "    \n",
    "    #smoke detectors:  detected = 1 , undetected = 0.\n",
    "    #temperature sensors:  detected = 1, undetected = 0.\n",
    "    \n",
    "    #goal state = {'0', '0'}\n",
    "    \n",
    "#get input\n",
    "\n",
    "    smoke = input(\"Enter the current condition: (smoke detected or not) (1/0) : \")\n",
    "    temp = input(\"Enter the value of temperature: (value in centigrade) : \") \n",
    "    print(\"\\n\")\n",
    "    \n",
    "    goal_state = [smoke,temp]\n",
    "    \n",
    "    print(\"Current condition and temperature value : \",goal_state)\n",
    "    \n",
    "    cost = 0\n",
    "    \n",
    "    if smoke == '' and temp == '':\n",
    "         print(\"Invalid input!! input the values agaian!!\")\n",
    "    \n",
    "    #if smoke and temperature are both high.\n",
    "    if smoke == '1' and temp > '45': \n",
    "        print(\"==> Smoke and high temperature is detected!! Bringing things to normal.\")\n",
    "        alarm()\n",
    "        sprinkle()\n",
    "        cost += 1\n",
    "        smoke = 0\n",
    "        temp = 44\n",
    "        print(\"Everything's back to normal!!\")\n",
    "    #if only smoke detected.\n",
    "    elif smoke == '1':\n",
    "        print(\"==> Smoke is detected!! Bringing things to normal.\")\n",
    "        alarm()\n",
    "        sprinkle()\n",
    "        cost += 1\n",
    "        smoke = 44\n",
    "        print(\"==> Everything's back to normal!!\")\n",
    "    #if only temp detected.\n",
    "    \n",
    "    elif temp > '45':\n",
    "        print(\"==> Temperature is detected!! Bringing things to normal.\")\n",
    "        alarm()\n",
    "        call_fire_department()\n",
    "        cost += 1\n",
    "        temp = 44\n",
    "        \n",
    "        print(\"==> Everything's back to normal!!\")\n",
    "    print(\"cost is =\",cost) \n",
    "    \n",
    "            \n",
    "    \n",
    "    \n",
    "    \n",
    "def alarm():\n",
    "    #activate alaram\n",
    "    print(\"=> Alarm!!!!!\")\n",
    "    \n",
    "def sprinkle():\n",
    "    \n",
    "    print(\"=> sprinkle syatem activated!!\")\n",
    "    \n",
    "def call_fire_department():\n",
    "    \n",
    "    print(\"=> fire department called!!!\")\n",
    "    \n",
    "    \n",
    "fire_alaram_sytem()\n",
    "\n",
    "    "
   ]
  },
  {
   "cell_type": "code",
   "execution_count": null,
   "id": "54c1ec7e",
   "metadata": {},
   "outputs": [],
   "source": []
  },
  {
   "cell_type": "code",
   "execution_count": 42,
   "id": "ed7a629b",
   "metadata": {},
   "outputs": [],
   "source": [
    "#task 2\n",
    "\n"
   ]
  },
  {
   "cell_type": "code",
   "execution_count": 43,
   "id": "8395ba8e",
   "metadata": {},
   "outputs": [
    {
     "name": "stdout",
     "output_type": "stream",
     "text": [
      "Enter moisture level in percentage : 45\n",
      "Moist soil!\n",
      "The soil is Moist.Switichiing off the watering system to prevent it from over watering.\n"
     ]
    }
   ],
   "source": [
    "class Automatic_watering_system:\n",
    "    \n",
    "    def __init__(self):\n",
    "        self.moisture_level = input(\"Enter moisture level in percentage : \")\n",
    "    \n",
    "    def water_it(self):\n",
    "        print(\"As the soil is wet,keep watering the soil!\")\n",
    "        \n",
    "    def water_system_off(self):\n",
    "        print(\"The soil is Moist.Switichiing off the watering system to prevent it from over watering.\")\n",
    "        \n",
    "    def deactivate_water_system(self):\n",
    "        print(\"The soil is wet.The agent is deactivating the watering system to prevent waterlogging.\")\n",
    "            \n",
    "    def checking_level(self):\n",
    "        \n",
    "        if self.moisture_level == '40' or self.moisture_level < '40':\n",
    "            print(\"Dry soil!!\")\n",
    "            self.water_it()\n",
    "            \n",
    "        elif self.moisture_level > '40' and self.moisture_level < '60':\n",
    "            print(\"Moist soil!\")\n",
    "            self.water_system_off()\n",
    "            \n",
    "        elif self.moisture_level > '60':\n",
    "            print(\"Wet soil!\")\n",
    "            self.deactive_water_syatem()\n",
    "\n",
    "        \n",
    "    \n",
    "watersytem = Automatic_watering_system()\n",
    "\n",
    "watersytem.checking_level()\n",
    "   \n",
    "        \n",
    "        "
   ]
  },
  {
   "cell_type": "code",
   "execution_count": null,
   "id": "400cdd5a",
   "metadata": {},
   "outputs": [],
   "source": []
  },
  {
   "cell_type": "code",
   "execution_count": null,
   "id": "264b456e",
   "metadata": {},
   "outputs": [],
   "source": []
  },
  {
   "cell_type": "code",
   "execution_count": null,
   "id": "4c985240",
   "metadata": {},
   "outputs": [],
   "source": []
  },
  {
   "cell_type": "code",
   "execution_count": null,
   "id": "ddebdd3d",
   "metadata": {},
   "outputs": [],
   "source": []
  }
 ],
 "metadata": {
  "kernelspec": {
   "display_name": "Python 3 (ipykernel)",
   "language": "python",
   "name": "python3"
  },
  "language_info": {
   "codemirror_mode": {
    "name": "ipython",
    "version": 3
   },
   "file_extension": ".py",
   "mimetype": "text/x-python",
   "name": "python",
   "nbconvert_exporter": "python",
   "pygments_lexer": "ipython3",
   "version": "3.9.13"
  }
 },
 "nbformat": 4,
 "nbformat_minor": 5
}
