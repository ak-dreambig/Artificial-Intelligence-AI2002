{
 "cells": [
  {
   "cell_type": "markdown",
   "id": "9304ff87",
   "metadata": {},
   "source": [
    "# LAB TASK 5"
   ]
  },
  {
   "cell_type": "code",
   "execution_count": 1,
   "id": "f9ce2578",
   "metadata": {},
   "outputs": [],
   "source": [
    "import pandas as pd\n",
    "import numpy as np\n",
    "\n",
    "# Visualization imports\n",
    "import matplotlib.pyplot as plt\n",
    "import seaborn as sns\n",
    "\n",
    "%matplotlib inline\n",
    "from sklearn.linear_model import Perceptron\n",
    "from sklearn.metrics import accuracy_score, precision_score,recall_score, f1_score\n",
    "\n",
    "\n",
    "\n",
    "from sklearn.preprocessing import LabelEncoder\n",
    "from sklearn.model_selection import train_test_split\n",
    "from sklearn import tree\n",
    "from sklearn.tree import DecisionTreeClassifier\n",
    "from sklearn.metrics import accuracy_score\n",
    "\n",
    "from sklearn.linear_model import Perceptron\n",
    "\n",
    "\n",
    "#imports\n",
    "from sklearn.datasets import load_iris\n",
    "from sklearn import tree\n",
    "import pandas as pd"
   ]
  },
  {
   "cell_type": "code",
   "execution_count": 17,
   "id": "32de9acd",
   "metadata": {},
   "outputs": [],
   "source": [
    "data = load_iris()\n",
    "df = pd.DataFrame(data=data.data, columns=data.feature_names)"
   ]
  },
  {
   "cell_type": "code",
   "execution_count": 3,
   "id": "d13e2b2e",
   "metadata": {},
   "outputs": [
    {
     "data": {
      "text/html": [
       "<div>\n",
       "<style scoped>\n",
       "    .dataframe tbody tr th:only-of-type {\n",
       "        vertical-align: middle;\n",
       "    }\n",
       "\n",
       "    .dataframe tbody tr th {\n",
       "        vertical-align: top;\n",
       "    }\n",
       "\n",
       "    .dataframe thead th {\n",
       "        text-align: right;\n",
       "    }\n",
       "</style>\n",
       "<table border=\"1\" class=\"dataframe\">\n",
       "  <thead>\n",
       "    <tr style=\"text-align: right;\">\n",
       "      <th></th>\n",
       "      <th>sepal length (cm)</th>\n",
       "      <th>sepal width (cm)</th>\n",
       "      <th>petal length (cm)</th>\n",
       "      <th>petal width (cm)</th>\n",
       "    </tr>\n",
       "  </thead>\n",
       "  <tbody>\n",
       "    <tr>\n",
       "      <th>0</th>\n",
       "      <td>5.1</td>\n",
       "      <td>3.5</td>\n",
       "      <td>1.4</td>\n",
       "      <td>0.2</td>\n",
       "    </tr>\n",
       "    <tr>\n",
       "      <th>1</th>\n",
       "      <td>4.9</td>\n",
       "      <td>3.0</td>\n",
       "      <td>1.4</td>\n",
       "      <td>0.2</td>\n",
       "    </tr>\n",
       "    <tr>\n",
       "      <th>2</th>\n",
       "      <td>4.7</td>\n",
       "      <td>3.2</td>\n",
       "      <td>1.3</td>\n",
       "      <td>0.2</td>\n",
       "    </tr>\n",
       "    <tr>\n",
       "      <th>3</th>\n",
       "      <td>4.6</td>\n",
       "      <td>3.1</td>\n",
       "      <td>1.5</td>\n",
       "      <td>0.2</td>\n",
       "    </tr>\n",
       "    <tr>\n",
       "      <th>4</th>\n",
       "      <td>5.0</td>\n",
       "      <td>3.6</td>\n",
       "      <td>1.4</td>\n",
       "      <td>0.2</td>\n",
       "    </tr>\n",
       "    <tr>\n",
       "      <th>...</th>\n",
       "      <td>...</td>\n",
       "      <td>...</td>\n",
       "      <td>...</td>\n",
       "      <td>...</td>\n",
       "    </tr>\n",
       "    <tr>\n",
       "      <th>145</th>\n",
       "      <td>6.7</td>\n",
       "      <td>3.0</td>\n",
       "      <td>5.2</td>\n",
       "      <td>2.3</td>\n",
       "    </tr>\n",
       "    <tr>\n",
       "      <th>146</th>\n",
       "      <td>6.3</td>\n",
       "      <td>2.5</td>\n",
       "      <td>5.0</td>\n",
       "      <td>1.9</td>\n",
       "    </tr>\n",
       "    <tr>\n",
       "      <th>147</th>\n",
       "      <td>6.5</td>\n",
       "      <td>3.0</td>\n",
       "      <td>5.2</td>\n",
       "      <td>2.0</td>\n",
       "    </tr>\n",
       "    <tr>\n",
       "      <th>148</th>\n",
       "      <td>6.2</td>\n",
       "      <td>3.4</td>\n",
       "      <td>5.4</td>\n",
       "      <td>2.3</td>\n",
       "    </tr>\n",
       "    <tr>\n",
       "      <th>149</th>\n",
       "      <td>5.9</td>\n",
       "      <td>3.0</td>\n",
       "      <td>5.1</td>\n",
       "      <td>1.8</td>\n",
       "    </tr>\n",
       "  </tbody>\n",
       "</table>\n",
       "<p>150 rows × 4 columns</p>\n",
       "</div>"
      ],
      "text/plain": [
       "     sepal length (cm)  sepal width (cm)  petal length (cm)  petal width (cm)\n",
       "0                  5.1               3.5                1.4               0.2\n",
       "1                  4.9               3.0                1.4               0.2\n",
       "2                  4.7               3.2                1.3               0.2\n",
       "3                  4.6               3.1                1.5               0.2\n",
       "4                  5.0               3.6                1.4               0.2\n",
       "..                 ...               ...                ...               ...\n",
       "145                6.7               3.0                5.2               2.3\n",
       "146                6.3               2.5                5.0               1.9\n",
       "147                6.5               3.0                5.2               2.0\n",
       "148                6.2               3.4                5.4               2.3\n",
       "149                5.9               3.0                5.1               1.8\n",
       "\n",
       "[150 rows x 4 columns]"
      ]
     },
     "execution_count": 3,
     "metadata": {},
     "output_type": "execute_result"
    }
   ],
   "source": [
    "df"
   ]
  },
  {
   "cell_type": "code",
   "execution_count": 4,
   "id": "85241c5d",
   "metadata": {},
   "outputs": [
    {
     "data": {
      "text/plain": [
       "array([0, 0, 0, 0, 0, 0, 0, 0, 0, 0, 0, 0, 0, 0, 0, 0, 0, 0, 0, 0, 0, 0,\n",
       "       0, 0, 0, 0, 0, 0, 0, 0, 0, 0, 0, 0, 0, 0, 0, 0, 0, 0, 0, 0, 0, 0,\n",
       "       0, 0, 0, 0, 0, 0, 1, 1, 1, 1, 1, 1, 1, 1, 1, 1, 1, 1, 1, 1, 1, 1,\n",
       "       1, 1, 1, 1, 1, 1, 1, 1, 1, 1, 1, 1, 1, 1, 1, 1, 1, 1, 1, 1, 1, 1,\n",
       "       1, 1, 1, 1, 1, 1, 1, 1, 1, 1, 1, 1, 2, 2, 2, 2, 2, 2, 2, 2, 2, 2,\n",
       "       2, 2, 2, 2, 2, 2, 2, 2, 2, 2, 2, 2, 2, 2, 2, 2, 2, 2, 2, 2, 2, 2,\n",
       "       2, 2, 2, 2, 2, 2, 2, 2, 2, 2, 2, 2, 2, 2, 2, 2, 2, 2])"
      ]
     },
     "execution_count": 4,
     "metadata": {},
     "output_type": "execute_result"
    }
   ],
   "source": [
    "data.target"
   ]
  },
  {
   "cell_type": "code",
   "execution_count": 5,
   "id": "ac260b65",
   "metadata": {},
   "outputs": [
    {
     "data": {
      "text/plain": [
       "array(['setosa', 'versicolor', 'virginica'], dtype='<U10')"
      ]
     },
     "execution_count": 5,
     "metadata": {},
     "output_type": "execute_result"
    }
   ],
   "source": [
    "data.target_names"
   ]
  },
  {
   "cell_type": "code",
   "execution_count": 6,
   "id": "e155d9f7",
   "metadata": {},
   "outputs": [
    {
     "data": {
      "text/plain": [
       "array([0, 0, 0, 0, 0, 0, 0, 0, 0, 0, 0, 0, 0, 0, 0, 0, 0, 0, 0, 0, 0, 0,\n",
       "       0, 0, 0, 0, 0, 0, 0, 0, 0, 0, 0, 0, 0, 0, 0, 0, 0, 0, 0, 0, 0, 0,\n",
       "       0, 0, 0, 0, 0, 0, 1, 1, 1, 1, 1, 1, 1, 1, 1, 1, 1, 1, 1, 1, 1, 1,\n",
       "       1, 1, 1, 1, 1, 1, 1, 1, 1, 1, 1, 1, 1, 1, 1, 1, 1, 1, 1, 1, 1, 1,\n",
       "       1, 1, 1, 1, 1, 1, 1, 1, 1, 1, 1, 1, 2, 2, 2, 2, 2, 2, 2, 2, 2, 2,\n",
       "       2, 2, 2, 2, 2, 2, 2, 2, 2, 2, 2, 2, 2, 2, 2, 2, 2, 2, 2, 2, 2, 2,\n",
       "       2, 2, 2, 2, 2, 2, 2, 2, 2, 2, 2, 2, 2, 2, 2, 2, 2, 2])"
      ]
     },
     "execution_count": 6,
     "metadata": {},
     "output_type": "execute_result"
    }
   ],
   "source": [
    "data.target"
   ]
  },
  {
   "cell_type": "code",
   "execution_count": 7,
   "id": "ecd0e882",
   "metadata": {},
   "outputs": [],
   "source": [
    "df['target'] = data.target"
   ]
  },
  {
   "cell_type": "code",
   "execution_count": 8,
   "id": "6d0d7443",
   "metadata": {},
   "outputs": [],
   "source": [
    "#dropping all the 2's\n",
    "\n",
    "df = df[df.target != 2]"
   ]
  },
  {
   "cell_type": "code",
   "execution_count": 9,
   "id": "c550c3c6",
   "metadata": {},
   "outputs": [
    {
     "data": {
      "text/plain": [
       "array([0, 1])"
      ]
     },
     "execution_count": 9,
     "metadata": {},
     "output_type": "execute_result"
    }
   ],
   "source": [
    "df['target'].unique()"
   ]
  },
  {
   "cell_type": "code",
   "execution_count": 10,
   "id": "e86716ad",
   "metadata": {},
   "outputs": [
    {
     "data": {
      "image/png": "[encoded data removed]",
      "text/plain": [
       "<Figure size 640x480 with 1 Axes>"
      ]
     },
     "metadata": {},
     "output_type": "display_data"
    },
    {
     "data": {
      "image/png": "[encoded data removed]",
      "text/plain": [
       "<Figure size 640x480 with 1 Axes>"
      ]
     },
     "metadata": {},
     "output_type": "display_data"
    },
    {
     "data": {
      "image/png": "[encoded data removed]",
      "text/plain": [
       "<Figure size 640x480 with 1 Axes>"
      ]
     },
     "metadata": {},
     "output_type": "display_data"
    },
    {
     "data": {
      "image/png": "[encoded data removed]",
      "text/plain": [
       "<Figure size 640x480 with 1 Axes>"
      ]
     },
     "metadata": {},
     "output_type": "display_data"
    },
    {
     "data": {
      "image/png": "[encoded data removed]",
      "text/plain": [
       "<Figure size 640x480 with 1 Axes>"
      ]
     },
     "metadata": {},
     "output_type": "display_data"
    }
   ],
   "source": [
    "for column in df.columns:\n",
    "    \n",
    "        fig, ax = plt.subplots()\n",
    "        ax.scatter(df[column], df['target'])\n",
    "        ax.set_xlabel(column)\n",
    "        ax.set_ylabel('target')\n",
    "        plt.show()"
   ]
  },
  {
   "cell_type": "code",
   "execution_count": 11,
   "id": "7c39c2a4",
   "metadata": {},
   "outputs": [
    {
     "name": "stdout",
     "output_type": "stream",
     "text": [
      "sepal length (cm)\n",
      "sepal width (cm)\n",
      "petal length (cm)\n",
      "petal width (cm)\n",
      "target\n"
     ]
    }
   ],
   "source": [
    "for i in df.columns:\n",
    "    print(i)"
   ]
  },
  {
   "cell_type": "code",
   "execution_count": 12,
   "id": "0d3793b9",
   "metadata": {},
   "outputs": [],
   "source": [
    "X = df[['sepal length (cm)','sepal width (cm)','petal length (cm)','petal width (cm)']]\n",
    "Y = df.target"
   ]
  },
  {
   "cell_type": "code",
   "execution_count": 13,
   "id": "70594da5",
   "metadata": {},
   "outputs": [
    {
     "data": {
      "text/plain": [
       "Perceptron()"
      ]
     },
     "execution_count": 13,
     "metadata": {},
     "output_type": "execute_result"
    }
   ],
   "source": [
    "X_train, X_test, Y_train, Y_test = train_test_split(X, Y, test_size=0.3, random_state=0)\n",
    "\n",
    "p= Perceptron()\n",
    "p.fit(X_train, Y_train)"
   ]
  },
  {
   "cell_type": "code",
   "execution_count": 14,
   "id": "b57a92a4",
   "metadata": {},
   "outputs": [
    {
     "name": "stdout",
     "output_type": "stream",
     "text": [
      "Accuracy score: 1.0\n",
      "Precision score: 1.0\n",
      "Recall score: 1.0\n",
      "F1 score: 1.0\n"
     ]
    }
   ],
   "source": [
    "y=df.target\n",
    "df=df.drop('target',axis='columns')\n",
    "X = df[['sepal length (cm)', 'sepal width (cm)', 'petal length (cm)','petal width (cm)']]\n",
    "X_train, X_test, y_train, y_test = train_test_split(X, y,test_size=0.3, random_state=0)\n",
    "clf=Perceptron()\n",
    "clf.fit(X_train,y_train)\n",
    "Perceptron()\n",
    "y_pred=clf.predict(X_test)\n",
    "print(f\"Accuracy score: {accuracy_score(y_test, y_pred)}\")\n",
    "print(f\"Precision score: {precision_score(y_test, y_pred,average='weighted')}\")\n",
    "print(f\"Recall score: {recall_score(y_test, y_pred,average='weighted')}\")\n",
    "print(f\"F1 score: {f1_score(y_test, y_pred, average='weighted')}\")"
   ]
  },
  {
   "cell_type": "code",
   "execution_count": 15,
   "id": "7b264dad",
   "metadata": {},
   "outputs": [
    {
     "name": "stdout",
     "output_type": "stream",
     "text": [
      "Expected=0, Predicted=1\n",
      "Expected=0, Predicted=1\n",
      "Expected=0, Predicted=1\n",
      "Expected=0, Predicted=1\n",
      "Expected=0, Predicted=1\n",
      "Expected=0, Predicted=1\n",
      "Expected=0, Predicted=1\n",
      "Expected=0, Predicted=1\n",
      "Expected=0, Predicted=1\n",
      "Expected=0, Predicted=1\n",
      "Expected=0, Predicted=1\n",
      "Expected=0, Predicted=1\n",
      "Expected=0, Predicted=1\n",
      "Expected=0, Predicted=1\n",
      "Expected=0, Predicted=1\n",
      "Expected=0, Predicted=1\n",
      "Expected=0, Predicted=1\n",
      "Expected=0, Predicted=1\n",
      "Expected=0, Predicted=1\n",
      "Expected=0, Predicted=1\n",
      "Expected=0, Predicted=1\n",
      "Expected=0, Predicted=1\n",
      "Expected=0, Predicted=1\n",
      "Expected=0, Predicted=1\n",
      "Expected=0, Predicted=1\n",
      "Expected=0, Predicted=1\n",
      "Expected=0, Predicted=1\n",
      "Expected=0, Predicted=1\n",
      "Expected=0, Predicted=1\n",
      "Expected=0, Predicted=1\n",
      "Expected=0, Predicted=1\n",
      "Expected=0, Predicted=1\n",
      "Expected=0, Predicted=1\n",
      "Expected=0, Predicted=1\n",
      "Expected=0, Predicted=1\n",
      "Expected=0, Predicted=1\n",
      "Expected=0, Predicted=1\n",
      "Expected=0, Predicted=1\n",
      "Expected=0, Predicted=1\n",
      "Expected=0, Predicted=1\n",
      "Expected=0, Predicted=1\n",
      "Expected=0, Predicted=1\n",
      "Expected=0, Predicted=1\n",
      "Expected=0, Predicted=1\n",
      "Expected=0, Predicted=1\n",
      "Expected=0, Predicted=1\n",
      "Expected=0, Predicted=1\n",
      "Expected=0, Predicted=1\n",
      "Expected=0, Predicted=1\n",
      "Expected=0, Predicted=1\n",
      "Expected=1, Predicted=1\n",
      "Expected=1, Predicted=1\n",
      "Expected=1, Predicted=1\n",
      "Expected=1, Predicted=1\n",
      "Expected=1, Predicted=1\n",
      "Expected=1, Predicted=1\n",
      "Expected=1, Predicted=1\n",
      "Expected=1, Predicted=1\n",
      "Expected=1, Predicted=1\n",
      "Expected=1, Predicted=1\n",
      "Expected=1, Predicted=1\n",
      "Expected=1, Predicted=1\n",
      "Expected=1, Predicted=1\n",
      "Expected=1, Predicted=1\n",
      "Expected=1, Predicted=1\n",
      "Expected=1, Predicted=1\n",
      "Expected=1, Predicted=1\n",
      "Expected=1, Predicted=1\n",
      "Expected=1, Predicted=1\n",
      "Expected=1, Predicted=1\n",
      "Expected=1, Predicted=1\n",
      "Expected=1, Predicted=1\n",
      "Expected=1, Predicted=1\n",
      "Expected=1, Predicted=1\n",
      "Expected=1, Predicted=1\n",
      "Expected=1, Predicted=1\n",
      "Expected=1, Predicted=1\n",
      "Expected=1, Predicted=1\n",
      "Expected=1, Predicted=1\n",
      "Expected=1, Predicted=1\n",
      "Expected=1, Predicted=1\n",
      "Expected=1, Predicted=1\n",
      "Expected=1, Predicted=1\n",
      "Expected=1, Predicted=1\n",
      "Expected=1, Predicted=1\n",
      "Expected=1, Predicted=1\n",
      "Expected=1, Predicted=1\n",
      "Expected=1, Predicted=1\n",
      "Expected=1, Predicted=1\n",
      "Expected=1, Predicted=1\n",
      "Expected=1, Predicted=1\n",
      "Expected=1, Predicted=1\n",
      "Expected=1, Predicted=1\n",
      "Expected=1, Predicted=1\n",
      "Expected=1, Predicted=1\n",
      "Expected=1, Predicted=1\n",
      "Expected=1, Predicted=1\n",
      "Expected=1, Predicted=1\n",
      "Expected=1, Predicted=1\n",
      "Expected=1, Predicted=1\n"
     ]
    }
   ],
   "source": [
    "x1=np.array(df)\n",
    "def predict(row, weights):\n",
    " activation = weights[0]\n",
    " for i in range(len(row)-1):\n",
    "     activation += weights[i + 1] * row[i]\n",
    "     return 1.0 if activation >= 0.0 else 0.0\n",
    "weights = [-358.00000000000995, 173.59999999999948, -1747.400000000064, 4242.9000000001415]\n",
    "for row in x1:\n",
    " prediction = predict(row, weights)\n",
    " print(\"Expected=%d, Predicted=%d\" % (row[-1], prediction))"
   ]
  },
  {
   "cell_type": "code",
   "execution_count": 16,
   "id": "28d89dec",
   "metadata": {},
   "outputs": [
    {
     "name": "stdout",
     "output_type": "stream",
     "text": [
      "epoch=0, lrate=1.000, error=19.800\n",
      "epoch=1, lrate=1.000, error=28.600\n",
      "epoch=2, lrate=1.000, error=29.400\n",
      "epoch=3, lrate=1.000, error=29.400\n",
      "epoch=4, lrate=1.000, error=27.200\n",
      "epoch=5, lrate=1.000, error=26.800\n",
      "epoch=6, lrate=1.000, error=26.800\n",
      "epoch=7, lrate=1.000, error=26.600\n",
      "epoch=8, lrate=1.000, error=26.800\n",
      "epoch=9, lrate=1.000, error=26.600\n",
      "epoch=10, lrate=1.000, error=26.800\n",
      "epoch=11, lrate=1.000, error=26.600\n",
      "epoch=12, lrate=1.000, error=26.200\n",
      "epoch=13, lrate=1.000, error=26.600\n",
      "epoch=14, lrate=1.000, error=26.800\n",
      "epoch=15, lrate=1.000, error=26.000\n",
      "epoch=16, lrate=1.000, error=28.600\n",
      "epoch=17, lrate=1.000, error=26.200\n",
      "epoch=18, lrate=1.000, error=28.600\n",
      "epoch=19, lrate=1.000, error=26.200\n",
      "epoch=20, lrate=1.000, error=28.600\n",
      "epoch=21, lrate=1.000, error=26.400\n",
      "epoch=22, lrate=1.000, error=26.800\n",
      "epoch=23, lrate=1.000, error=26.400\n",
      "epoch=24, lrate=1.000, error=26.600\n",
      "epoch=25, lrate=1.000, error=26.600\n",
      "epoch=26, lrate=1.000, error=26.600\n",
      "epoch=27, lrate=1.000, error=26.600\n",
      "epoch=28, lrate=1.000, error=26.600\n",
      "epoch=29, lrate=1.000, error=26.600\n",
      "epoch=30, lrate=1.000, error=26.600\n",
      "epoch=31, lrate=1.000, error=26.600\n",
      "epoch=32, lrate=1.000, error=26.800\n",
      "epoch=33, lrate=1.000, error=25.600\n",
      "epoch=34, lrate=1.000, error=26.000\n",
      "epoch=35, lrate=1.000, error=26.200\n",
      "epoch=36, lrate=1.000, error=27.000\n",
      "epoch=37, lrate=1.000, error=26.800\n",
      "epoch=38, lrate=1.000, error=26.200\n",
      "epoch=39, lrate=1.000, error=26.000\n",
      "epoch=40, lrate=1.000, error=26.200\n",
      "epoch=41, lrate=1.000, error=26.400\n",
      "epoch=42, lrate=1.000, error=26.800\n",
      "epoch=43, lrate=1.000, error=25.600\n",
      "epoch=44, lrate=1.000, error=26.000\n",
      "epoch=45, lrate=1.000, error=26.200\n",
      "epoch=46, lrate=1.000, error=26.400\n",
      "epoch=47, lrate=1.000, error=26.800\n",
      "epoch=48, lrate=1.000, error=25.600\n",
      "epoch=49, lrate=1.000, error=26.000\n",
      "epoch=50, lrate=1.000, error=26.400\n",
      "epoch=51, lrate=1.000, error=26.200\n",
      "epoch=52, lrate=1.000, error=26.600\n",
      "epoch=53, lrate=1.000, error=25.600\n",
      "epoch=54, lrate=1.000, error=26.000\n",
      "epoch=55, lrate=1.000, error=26.400\n",
      "epoch=56, lrate=1.000, error=26.200\n",
      "epoch=57, lrate=1.000, error=26.800\n",
      "epoch=58, lrate=1.000, error=26.000\n",
      "epoch=59, lrate=1.000, error=26.400\n",
      "epoch=60, lrate=1.000, error=26.800\n",
      "epoch=61, lrate=1.000, error=26.400\n",
      "epoch=62, lrate=1.000, error=26.000\n",
      "epoch=63, lrate=1.000, error=26.000\n",
      "epoch=64, lrate=1.000, error=26.400\n",
      "epoch=65, lrate=1.000, error=26.400\n",
      "epoch=66, lrate=1.000, error=25.600\n",
      "epoch=67, lrate=1.000, error=26.000\n",
      "epoch=68, lrate=1.000, error=26.400\n",
      "epoch=69, lrate=1.000, error=26.800\n",
      "epoch=70, lrate=1.000, error=26.200\n",
      "epoch=71, lrate=1.000, error=26.000\n",
      "epoch=72, lrate=1.000, error=26.400\n",
      "epoch=73, lrate=1.000, error=26.800\n",
      "epoch=74, lrate=1.000, error=26.400\n",
      "epoch=75, lrate=1.000, error=26.000\n",
      "epoch=76, lrate=1.000, error=26.400\n",
      "epoch=77, lrate=1.000, error=26.800\n",
      "epoch=78, lrate=1.000, error=26.400\n",
      "epoch=79, lrate=1.000, error=26.000\n",
      "epoch=80, lrate=1.000, error=26.000\n",
      "epoch=81, lrate=1.000, error=26.400\n",
      "epoch=82, lrate=1.000, error=25.800\n",
      "epoch=83, lrate=1.000, error=26.800\n",
      "epoch=84, lrate=1.000, error=26.400\n",
      "epoch=85, lrate=1.000, error=26.800\n",
      "epoch=86, lrate=1.000, error=25.800\n",
      "epoch=87, lrate=1.000, error=26.800\n",
      "epoch=88, lrate=1.000, error=26.400\n",
      "epoch=89, lrate=1.000, error=26.800\n",
      "epoch=90, lrate=1.000, error=25.800\n",
      "epoch=91, lrate=1.000, error=26.000\n",
      "epoch=92, lrate=1.000, error=26.400\n",
      "epoch=93, lrate=1.000, error=26.800\n",
      "epoch=94, lrate=1.000, error=25.800\n",
      "epoch=95, lrate=1.000, error=26.800\n",
      "epoch=96, lrate=1.000, error=26.400\n",
      "epoch=97, lrate=1.000, error=26.800\n",
      "epoch=98, lrate=1.000, error=26.200\n",
      "epoch=99, lrate=1.000, error=26.400\n",
      "[-306.000000000009, 159.50000000000026, -2069.400000000095, 4469.800000000184]\n"
     ]
    }
   ],
   "source": [
    "def train_weights(train, l_rate, n_epoch):\n",
    "    \n",
    "    weights = [0.0 for i in range(len(train[0]))]\n",
    "    for epoch in range(n_epoch):\n",
    "        sum_error = 0.0\n",
    "\n",
    "        for row in train:\n",
    "\n",
    "            prediction = predict(row, weights)\n",
    "\n",
    "            error = row[-1] - prediction\n",
    "\n",
    "            sum_error += error**2\n",
    "\n",
    "            weights[0] = weights[0] + l_rate * error #bias(t+1) = bias(t) + learning_rate * (expected(t) - predicted(t))\n",
    "\n",
    "            for i in range(len(row)-1):\n",
    "    \n",
    "                weights[i + 1] = weights[i + 1] + l_rate * error *row[i] #w(t+1) = w(t) + learning_rate * (expected(t) - predicted(t)) *x(t)\n",
    "\n",
    "        print('epoch=%d, lrate=%.3f, error=%.3f' % (epoch, l_rate,sum_error))\n",
    "\n",
    "    return weights\n",
    "l_rate = 1\n",
    "n_epoch = 100\n",
    "weights = train_weights(x1, l_rate, n_epoch)\n",
    "print(weights)\n"
   ]
  }
 ],
 "metadata": {
  "kernelspec": {
   "display_name": "Python 3 (ipykernel)",
   "language": "python",
   "name": "python3"
  },
  "language_info": {
   "codemirror_mode": {
    "name": "ipython",
    "version": 3
   },
   "file_extension": ".py",
   "mimetype": "text/x-python",
   "name": "python",
   "nbconvert_exporter": "python",
   "pygments_lexer": "ipython3",
   "version": "3.9.13"
  }
 },
 "nbformat": 4,
 "nbformat_minor": 5
}
