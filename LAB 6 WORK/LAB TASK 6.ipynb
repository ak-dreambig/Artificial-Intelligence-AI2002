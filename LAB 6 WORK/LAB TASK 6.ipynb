{
 "cells": [
  {
   "cell_type": "code",
   "execution_count": 1,
   "id": "4586e35b",
   "metadata": {},
   "outputs": [],
   "source": [
    "import pandas as pd\n",
    "import numpy as np\n",
    "from sklearn import *\n",
    "from sklearn.model_selection import train_test_split\n",
    "from sklearn.preprocessing import LabelEncoder, StandardScaler\n",
    "from sklearn.neural_network import MLPClassifier\n",
    "from sklearn.metrics import accuracy_score, precision_score, recall_score\n",
    "from sklearn.metrics import f1_score"
   ]
  },
  {
   "cell_type": "code",
   "execution_count": 2,
   "id": "5e6861c0",
   "metadata": {},
   "outputs": [],
   "source": [
    "df = pd.read_csv(\"titanic_train.csv\")\n"
   ]
  },
  {
   "cell_type": "code",
   "execution_count": 3,
   "id": "55f6a251",
   "metadata": {},
   "outputs": [
    {
     "data": {
      "text/plain": [
       "passenger_id      int64\n",
       "pclass            int64\n",
       "name             object\n",
       "sex              object\n",
       "age             float64\n",
       "sibsp             int64\n",
       "parch             int64\n",
       "ticket           object\n",
       "fare            float64\n",
       "cabin            object\n",
       "embarked         object\n",
       "boat             object\n",
       "body            float64\n",
       "home.dest        object\n",
       "survived          int64\n",
       "dtype: object"
      ]
     },
     "execution_count": 3,
     "metadata": {},
     "output_type": "execute_result"
    }
   ],
   "source": [
    "df.dtypes"
   ]
  },
  {
   "cell_type": "code",
   "execution_count": 4,
   "id": "78d7b95a",
   "metadata": {},
   "outputs": [],
   "source": [
    "label_encoder = LabelEncoder()\n",
    "df['sex'] = label_encoder.fit_transform(df['sex'])\n",
    "df['embarked'] = label_encoder.fit_transform(df['embarked'].fillna('Unknown'))"
   ]
  },
  {
   "cell_type": "code",
   "execution_count": 5,
   "id": "3615b74a",
   "metadata": {},
   "outputs": [
    {
     "name": "stdout",
     "output_type": "stream",
     "text": [
      "   passenger_id  pclass                                               name  \\\n",
      "0          1216       3                                 Smyth, Miss. Julia   \n",
      "1           699       3                                    Cacic, Mr. Luka   \n",
      "2          1267       3  Van Impe, Mrs. Jean Baptiste (Rosalie Paula Go...   \n",
      "3           449       2              Hocking, Mrs. Elizabeth (Eliza Needs)   \n",
      "4           576       2                                    Veal, Mr. James   \n",
      "\n",
      "   sex   age  sibsp  parch  ticket     fare cabin  embarked boat  body  \\\n",
      "0    0  28.0      0      0  335432   7.7333   NaN         1   13   NaN   \n",
      "1    1  38.0      0      0  315089   8.6625   NaN         2  NaN   NaN   \n",
      "2    0  30.0      1      1  345773  24.1500   NaN         2  NaN   NaN   \n",
      "3    0  54.0      1      3   29105  23.0000   NaN         2    4   NaN   \n",
      "4    1  40.0      0      0   28221  13.0000   NaN         2  NaN   NaN   \n",
      "\n",
      "                  home.dest  survived  \n",
      "0                       NaN         1  \n",
      "1                   Croatia         0  \n",
      "2                       NaN         0  \n",
      "3      Cornwall / Akron, OH         1  \n",
      "4  Barre, Co Washington, VT         0  \n"
     ]
    }
   ],
   "source": [
    "# Fill in missing values with median values\n",
    "df['age'] = df['age'].fillna(df['age'].median())\n",
    "df['fare'] = df['fare'].fillna(df['fare'].median())\n",
    "# Display the preprocessed DataFrame\n",
    "print(df.head())"
   ]
  },
  {
   "cell_type": "code",
   "execution_count": 6,
   "id": "2b68933d",
   "metadata": {},
   "outputs": [],
   "source": [
    "scaler = StandardScaler()\n",
    "numerical_cols = ['age', 'fare']\n",
    "df[numerical_cols] = scaler.fit_transform(df[numerical_cols])\n"
   ]
  },
  {
   "cell_type": "code",
   "execution_count": 7,
   "id": "9d251424",
   "metadata": {},
   "outputs": [
    {
     "name": "stdout",
     "output_type": "stream",
     "text": [
      "X_train shape: (637, 7)\n",
      "y_train shape: (637,)\n",
      "X_test shape: (213, 7)\n",
      "y_test shape: (213,)\n"
     ]
    }
   ],
   "source": [
    "features = ['pclass', 'sex', 'age', 'sibsp', 'parch', 'fare', 'embarked']\n",
    "target = 'survived'\n",
    "X_train, X_test, y_train, y_test = train_test_split(df[features], df[target])\n",
    "# Display the shapes of the resulting data splits\n",
    "print('X_train shape:', X_train.shape)\n",
    "print('y_train shape:', y_train.shape)\n",
    "print('X_test shape:', X_test.shape)\n",
    "print('y_test shape:', y_test.shape)"
   ]
  },
  {
   "cell_type": "code",
   "execution_count": 8,
   "id": "f16286d2",
   "metadata": {},
   "outputs": [
    {
     "name": "stdout",
     "output_type": "stream",
     "text": [
      "Training accuracy: 0.8288854003139717\n"
     ]
    }
   ],
   "source": [
    "mlp = MLPClassifier(hidden_layer_sizes=(10,), max_iter=1000, random_state=42)\n",
    "mlp.fit(X_train, y_train)\n",
    "\n",
    "# Print the accuracy of the classifier on the training data\n",
    "train_accuracy = mlp.score(X_train, y_train)\n",
    "print('Training accuracy:', train_accuracy)"
   ]
  },
  {
   "cell_type": "code",
   "execution_count": 9,
   "id": "98e79f74",
   "metadata": {
    "scrolled": true
   },
   "outputs": [
    {
     "name": "stdout",
     "output_type": "stream",
     "text": [
      "Accuracy: 0.808\n",
      "Precision: 0.828\n",
      "Recall: 0.639\n"
     ]
    }
   ],
   "source": [
    "y_pred = mlp.predict(X_test)\n",
    "# calculate evaluation metrics\n",
    "accuracy = accuracy_score(y_test, y_pred)\n",
    "precision = precision_score(y_test, y_pred)\n",
    "recall = recall_score(y_test, y_pred)\n",
    "f1 = f1_score(y_test, y_pred)\n",
    "# print the results\n",
    "print(\"Accuracy: {:.3f}\".format(accuracy))\n",
    "print(\"Precision: {:.3f}\".format(precision))\n",
    "print(\"Recall: {:.3f}\".format(recall))"
   ]
  },
  {
   "cell_type": "code",
   "execution_count": null,
   "id": "7c5118f2",
   "metadata": {},
   "outputs": [],
   "source": []
  }
 ],
 "metadata": {
  "kernelspec": {
   "display_name": "Python 3 (ipykernel)",
   "language": "python",
   "name": "python3"
  },
  "language_info": {
   "codemirror_mode": {
    "name": "ipython",
    "version": 3
   },
   "file_extension": ".py",
   "mimetype": "text/x-python",
   "name": "python",
   "nbconvert_exporter": "python",
   "pygments_lexer": "ipython3",
   "version": "3.9.13"
  }
 },
 "nbformat": 4,
 "nbformat_minor": 5
}
