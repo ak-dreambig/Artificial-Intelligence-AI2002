{
 "cells": [
  {
   "cell_type": "markdown",
   "id": "02b2f713",
   "metadata": {},
   "source": [
    "# Lab Task "
   ]
  },
  {
   "cell_type": "markdown",
   "id": "a20b84ea",
   "metadata": {},
   "source": [
    "Consider the following problem and using genetic algorithm obtain\n",
    "start state = [[0,0,0],[0,0,0],[0,0,0]] and goal state = [[1,1,1],[1,1,1],[1,1,1]]\n",
    "chrormosome representation is [0,0,0,0,0,0,0,0,0]\n",
    "and fitness algorithm is no of 1 in chrormosome.\n",
    "\n",
    "\n",
    "Implement a genetic algorithm to solve a 2D array problem.\n",
    "• The problem has an initial state of a 4x4 array filled with zeroes and a goal state of a\n",
    "4x4 array filled with ones.\n",
    "• The fitness function for each state is the number of ones in the array.\n",
    "• Convert the 4x4 2D array into a 1D array of length 16 to work with chromosomes.\n",
    "• Use selection, crossover, and mutation operations to generate new states.\n",
    "• For selection, randomly select two parents from the population and calculate their\n",
    "selection probabilities based on their fitness values. (Roulette Wheel Selection)\n",
    "• For crossover, perform a single-point crossover operation on the selected parents to\n",
    "create two children.\n",
    "• For mutation, apply a mutation operator with a low probability value to introduce new\n",
    "genetic material.\n",
    "• Calculate the fitness values of the two children and apply the goal test to check if either\n",
    "of the children is the goal state.\n",
    "• Replace the least fit members of the population with the new children.\n",
    "• Repeat the process until a solution is found or after a certain number of iterations.\n",
    "• Test the algorithm to find a solution for the given problem."
   ]
  },
  {
   "cell_type": "code",
   "execution_count": 1,
   "id": "c91b376f",
   "metadata": {},
   "outputs": [],
   "source": [
    "import random\n",
    "\n",
    "POPULATION_SIZE = 100\n",
    "CHROMOSOME_LENGTH = 16\n",
    "GOAL_STATE = [1, 1, 1, 1, 1, 1, 1, 1, 1, 1, 1, 1, 1, 1, 1, 1]\n",
    "\n",
    "def create_chromosome():\n",
    "    return [random.randint(0, 1) for _ in range(CHROMOSOME_LENGTH)]\n",
    "\n",
    "def create_population():\n",
    "    return [create_chromosome() for _ in range(POPULATION_SIZE)]\n",
    "\n",
    "def fitness_function(chromosome):\n",
    "    return sum(chromosome)\n",
    "\n",
    "def roulette_wheel_selection(population):\n",
    "    fitness_sum = sum(fitness_function(chromosome) for chromosome in population)\n",
    "    selection_probs = [fitness_function(chromosome) / fitness_sum for chromosome in population]\n",
    "    parents = random.choices(population, weights=selection_probs, k=2)\n",
    "    return parents\n",
    "\n",
    "def single_point_crossover(parent1, parent2):\n",
    "    crossover_point = random.randint(1, CHROMOSOME_LENGTH - 1)\n",
    "    child1 = parent1[:crossover_point] + parent2[crossover_point:]\n",
    "    child2 = parent2[:crossover_point] + parent1[crossover_point:]\n",
    "    return child1, child2\n",
    "\n",
    "def mutation(child):\n",
    "    for i in range(CHROMOSOME_LENGTH):\n",
    "        if random.random() < 0.1:\n",
    "            child[i] = 1 - child[i]\n",
    "    return child\n",
    "\n",
    "def goal_test(chromosome):\n",
    "    return chromosome == GOAL_STATE\n",
    "\n",
    "def genetic_algorithm():\n",
    "    population = create_population()\n",
    "    for i in range(1000):\n",
    "        parents = roulette_wheel_selection(population)\n",
    "        child1, child2 = single_point_crossover(parents[0], parents[1])\n",
    "        child1 = mutation(child1)\n",
    "        child2 = mutation(child2)\n",
    "        if goal_test(child1):\n",
    "            return child1\n",
    "        if goal_test(child2):\n",
    "            return child2\n",
    "        population.sort(key=fitness_function)\n",
    "        population[:2] = [child1, child2]\n",
    "    return None"
   ]
  },
  {
   "cell_type": "code",
   "execution_count": null,
   "id": "b23d0c3a",
   "metadata": {},
   "outputs": [],
   "source": []
  },
  {
   "cell_type": "code",
   "execution_count": null,
   "id": "a504fa68",
   "metadata": {},
   "outputs": [],
   "source": []
  },
  {
   "cell_type": "code",
   "execution_count": null,
   "id": "b679e45c",
   "metadata": {},
   "outputs": [],
   "source": []
  },
  {
   "cell_type": "code",
   "execution_count": null,
   "id": "bbd80321",
   "metadata": {},
   "outputs": [],
   "source": []
  }
 ],
 "metadata": {
  "kernelspec": {
   "display_name": "Python 3 (ipykernel)",
   "language": "python",
   "name": "python3"
  },
  "language_info": {
   "codemirror_mode": {
    "name": "ipython",
    "version": 3
   },
   "file_extension": ".py",
   "mimetype": "text/x-python",
   "name": "python",
   "nbconvert_exporter": "python",
   "pygments_lexer": "ipython3",
   "version": "3.9.13"
  }
 },
 "nbformat": 4,
 "nbformat_minor": 5
}
