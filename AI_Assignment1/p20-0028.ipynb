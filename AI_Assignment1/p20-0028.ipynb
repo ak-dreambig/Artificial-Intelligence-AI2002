{
  "nbformat": 4,
  "nbformat_minor": 0,
  "metadata": {
    "colab": {
      "provenance": []
    },
    "kernelspec": {
      "name": "python3",
      "display_name": "Python 3"
    },
    "language_info": {
      "name": "python"
    }
  },
  "cells": [
    {
      "cell_type": "code",
      "execution_count": 2,
      "metadata": {
        "colab": {
          "base_uri": "https://localhost:8080/"
        },
        "id": "nRM0cVEO0mlE",
        "outputId": "ce2e075e-16ee-4a7d-eacf-9ff6189fcbde"
      },
      "outputs": [
        {
          "output_type": "stream",
          "name": "stdout",
          "text": [
            "Drive already mounted at /content/drive; to attempt to forcibly remount, call drive.mount(\"/content/drive\", force_remount=True).\n",
            "It continued raining for many days. One day, a monkey wet in the\n",
            "rain came into the forest. He sat on a branch, shivering with cold, water dripping\n",
            "from its body.\n",
            "\n",
            "ARI: 9\n",
            "number of words : 31\n",
            "number of sentences:  3\n",
            "number of characters: 163\n"
          ]
        }
      ],
      "source": [
        "from google.colab import drive\n",
        "drive.mount('/content/drive')\n",
        "with open('/content/drive/My Drive/text1.txt', 'r') as f: \n",
        "    text_file = f.read()  #reading mode\n",
        "    print(text_file)\n",
        "\n",
        "\n",
        "def calculate_ari():\n",
        "    sentences =0\n",
        "    characters =0\n",
        "    words =0\n",
        "\n",
        "   \n",
        "    for c in text_file:\n",
        "        if c.isalnum:\n",
        "            characters+=1\n",
        "        \n",
        "        \n",
        "    words = len(text_file.split())\n",
        "    for i in text_file:\n",
        "        if (i == \".\" or i == \"!\" or i ==\";\"or i ==\":\"or i ==\"?\"):\n",
        "            sentences+=1\n",
        "  \n",
        "\n",
        "\n",
        "    ari = 4.71 * (characters / words) + 0.5 * (words / sentences) - 21.43\n",
        "    print(\"ARI:\",round(ari)) \n",
        "\n",
        "    print(\"number of words :\",words)\n",
        "    print(\"number of sentences: \",sentences)\n",
        "    print(\"number of characters:\",characters)\n",
        "\n",
        "\n",
        "calculate_ari()"
      ]
    },
    {
      "cell_type": "code",
      "source": [],
      "metadata": {
        "id": "yCYaOU6y3-so"
      },
      "execution_count": null,
      "outputs": []
    }
  ]
}